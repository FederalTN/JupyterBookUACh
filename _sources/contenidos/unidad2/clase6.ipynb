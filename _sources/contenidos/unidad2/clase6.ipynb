{
 "cells": [
  {
   "cell_type": "markdown",
   "id": "1f0bce8d",
   "metadata": {},
   "source": [
    "# Gráficos interactivos con bokeh y widgets\n",
    "\n",
    "Para lograr gráficas con mayor interactividad recomiendo utilizar la librería [bokeh](https://docs.bokeh.org/en/latest/index.html)\n",
    "\n",
    "En esta lección veremos algunos ejemplos avanzados con bokeh"
   ]
  },
  {
   "cell_type": "markdown",
   "id": "008c07d6",
   "metadata": {},
   "source": [
    "## Inspección de datos interactiva\n",
    "\n",
    "En el siguiente ejemplo se muestra una gráfica básica con bokeh \n",
    "\n",
    "Los controles de la derecha permiten mover y hacer zoom sobre los datos\n",
    "\n",
    "El `tooltip` permite ver el valor del dato cuando el cursor se posa sobre el mismo"
   ]
  },
  {
   "cell_type": "code",
   "execution_count": null,
   "id": "21dc830e",
   "metadata": {},
   "outputs": [],
   "source": [
    "import numpy as np\n",
    "from bokeh.layouts import column, row\n",
    "from bokeh.models import CustomJS, ColumnDataSource, Slider\n",
    "from bokeh.plotting import Figure, show, output_notebook\n",
    "output_notebook()\n",
    "\n",
    "data = np.random.randn(100, 2)\n",
    "source = ColumnDataSource(data=dict(index=range(100), x=data[:,0], y=data[:,1]))\n",
    "\n",
    "plot = Figure(plot_width=550, plot_height=300, tooltips=[(\"index\",\"$index\"),(\"(x,y)\", \"($x, $y)\")])\n",
    "plot.scatter('x', 'y', size=10, source=source)\n",
    "\n",
    "show(plot)"
   ]
  },
  {
   "cell_type": "markdown",
   "id": "12e3ca0e",
   "metadata": {},
   "source": [
    "## Manipulación de datos usando widgets \n",
    "\n",
    "Un widget es una interfaz gráfica de usuario. En el siguiente ejemplo se enlanzan tres controles de desplazamiento a un gráfico de bokeh que es modificado con una rutina escrita en `javascript`"
   ]
  },
  {
   "cell_type": "code",
   "execution_count": null,
   "id": "97f67d7b",
   "metadata": {},
   "outputs": [],
   "source": [
    "t = np.linspace(0, 5, num=1000)\n",
    "s = np.cos(2.0*np.pi*t)\n",
    "\n",
    "A = Slider(start=0.1, end=2, value=1, step=.01, title=\"Amplitud\")\n",
    "f = Slider(start=0.1, end=2, value=1, step=.01, title=\"Frecuencia\")\n",
    "p = Slider(start=0, end=6.4, value=0, step=.1, title=\"Desfase\")\n",
    "\n",
    "source = ColumnDataSource(data=dict(t=t, s=s))\n",
    "plot = Figure(y_range=(-1.5, 1.5), plot_width=550, plot_height=300)\n",
    "plot.line('t', 's', source=source, line_width=3, line_alpha=0.6)\n",
    "plot.xaxis[0].axis_label = 'Tiempo [s]'\n",
    "\n",
    "callback = CustomJS(args=dict(source=source, A=A, f=f, p=p), code=\"\"\"\n",
    "    var t = source.data['t'];\n",
    "    var s = source.data['s'];\n",
    "    for (var i = 0; i < s.length; i++) {\n",
    "        s[i] = A.value*Math.cos(2*Math.PI*t[i]*f.value + p.value);\n",
    "    }\n",
    "    source.change.emit();\n",
    "\"\"\")\n",
    "\n",
    "for widget in [A, f, p]:\n",
    "    widget.js_on_change('value', callback)\n",
    "\n",
    "show(column(A, f, p, plot))"
   ]
  },
  {
   "cell_type": "code",
   "execution_count": null,
   "id": "91c11ddc",
   "metadata": {},
   "outputs": [],
   "source": []
  }
 ],
 "metadata": {
  "kernelspec": {
   "display_name": "Python 3",
   "language": "python",
   "name": "python3"
  },
  "language_info": {
   "codemirror_mode": {
    "name": "ipython",
    "version": 3
   },
   "file_extension": ".py",
   "mimetype": "text/x-python",
   "name": "python",
   "nbconvert_exporter": "python",
   "pygments_lexer": "ipython3",
   "version": "3.9.5"
  }
 },
 "nbformat": 4,
 "nbformat_minor": 5
}
