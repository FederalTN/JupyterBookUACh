{
 "cells": [
  {
   "cell_type": "markdown",
   "id": "a5d875dd",
   "metadata": {},
   "source": [
    "# Escribiendo contenidos en formato `jupyter notebook`\n",
    "\n",
    "Jupyter es un proyecto de código abierto cuyo objetivo es facilitar la interacción con datos y/o cómputo de índole científico\n",
    "\n",
    "Una de las herramientas que provee este proyecto es el cuadernillo/notebook jupyter \n",
    "\n",
    "Un cuadernillo jupyter es un archivo con extensión `.ipynb` que combina bloques o celdas de texto formateado en markdown y de código ejecutable (python, julia, r, c, etc)\n",
    "\n",
    "Si escribes en tu terminal\n",
    "\n",
    "     jupyter notebook\n",
    "     \n",
    "Lanzarás un servidor de jupyter con el que puedes crear y editar cuadernillos. \n",
    "\n",
    "```{note}\n",
    "Esta página fue creada a partir de un cuadernillo jupyter usando jupyter book\n",
    "```\n",
    "\n",
    "Para mayor detalles sobre como se usan los cuadernillos jupyter puedes revisar [este material](https://magister-informatica-uach.github.io/INFO147/clases/unidad1/04_jupyter_y_ipython.html). A continuación se darán algunos ejemplos básicos"
   ]
  },
  {
   "cell_type": "markdown",
   "id": "cebec0de",
   "metadata": {},
   "source": [
    "## Bloques de código\n",
    "\n",
    "Un bloque de código en un cuadernillo se ejecuta y su salida se muestra en el libro interactivo por ejemplo"
   ]
  },
  {
   "cell_type": "code",
   "execution_count": null,
   "id": "f66eb0fc",
   "metadata": {},
   "outputs": [],
   "source": [
    "def Fibonacci(n):\n",
    "    if n == 0:\n",
    "        return 0\n",
    "    elif n == 1 or n == 2:\n",
    "        return 1\n",
    "    else:\n",
    "        return Fibonacci(n-1) + Fibonacci(n-2)\n",
    "\n",
    "for i in range(10):\n",
    "    print(i, Fibonacci(i))"
   ]
  },
  {
   "cell_type": "markdown",
   "id": "f706f910",
   "metadata": {},
   "source": [
    "## IPython display\n",
    "\n",
    "El módulo IPython display permite mostrar algunos contenidos de media de forma muy simple \n",
    "\n",
    "Por ejemplo para mostrar un reproductor de video para Youtube"
   ]
  },
  {
   "cell_type": "code",
   "execution_count": null,
   "id": "ce952269",
   "metadata": {},
   "outputs": [],
   "source": [
    "from IPython.display import YouTubeVideo\n",
    "\n",
    "# El video original es https://www.youtube.com/watch?v=F7vtuAbWYN4\n",
    "# usamos sólo la id como argumento\n",
    "YouTubeVideo(\"F7vtuAbWYN4\")"
   ]
  },
  {
   "cell_type": "markdown",
   "id": "b77bd26a",
   "metadata": {},
   "source": [
    "O por un reproductor de audio con"
   ]
  },
  {
   "cell_type": "code",
   "execution_count": null,
   "id": "0375fbbd",
   "metadata": {},
   "outputs": [],
   "source": [
    "from IPython.display import Audio\n",
    "Audio(url=\"http://www.w3schools.com/html/horse.ogg\")"
   ]
  },
  {
   "cell_type": "markdown",
   "id": "41a81529",
   "metadata": {},
   "source": [
    "## Gráficos con `matplotlib`\n",
    "\n",
    "`matplotlib` es una excelente librería de Python para hacer gráficas. El siguiente bloque muestra un ejemplo de una gráfica creada programáticamente"
   ]
  },
  {
   "cell_type": "code",
   "execution_count": null,
   "id": "01c35c63",
   "metadata": {},
   "outputs": [],
   "source": [
    "%matplotlib inline\n",
    "import matplotlib.pyplot as plt\n",
    "import numpy as np\n",
    "\n",
    "x_plot = np.linspace(-4, 6, num=100)\n",
    "f = lambda x : x**2 - 2*x + 5*np.sin(2*x)\n",
    "\n",
    "fig, ax = plt.subplots(figsize=(7, 4), tight_layout=True, dpi=120)\n",
    "ax.plot(x_plot, f(x_plot), lw=2, label='f(x)')\n",
    "ax.set_ylabel(r'$f(x)$')\n",
    "ax.set_xlabel(r'$x$')\n",
    "ax.legend(loc=4);"
   ]
  },
  {
   "cell_type": "markdown",
   "id": "4c14393c",
   "metadata": {},
   "source": [
    "## Animaciones con `matplotlib`\n",
    "\n",
    "Se pueden programar animaciones con matplotlib como muestra el siguiente ejemplo"
   ]
  },
  {
   "cell_type": "code",
   "execution_count": null,
   "id": "8dfa23fc",
   "metadata": {},
   "outputs": [],
   "source": [
    "from IPython.display import HTML\n",
    "from matplotlib import animation"
   ]
  },
  {
   "cell_type": "code",
   "execution_count": null,
   "id": "795da7dc",
   "metadata": {},
   "outputs": [],
   "source": [
    "%%capture \n",
    "\n",
    "x_plot = np.linspace(-4, 6, num=100)\n",
    "f = lambda x : x**2 - 2*x + 5*np.sin(2*x)\n",
    "dfdx = lambda x : 2*x - 2 + 10*np.cos(2*x)\n",
    "x = np.linspace(-4, 6, num=10)\n",
    "eta = 0.001\n",
    "\n",
    "fig, ax = plt.subplots(figsize=(7, 4), tight_layout=True, dpi=120)\n",
    "ax.plot(x_plot, f(x_plot), label=r'$x^2-2x+5\\sin(2x)$')\n",
    "sc = ax.scatter(x, f(x), s=100, c='k', label='soluciones')\n",
    "ax.set_ylabel(r'$f(x)$')\n",
    "ax.set_xlabel(r'$x$')\n",
    "ax.legend(loc=4);\n",
    "\n",
    "\n",
    "def update_plot(n):\n",
    "    ax.set_title(f\"Iteración {n}/50\")\n",
    "    x = sc.get_offsets()[:, 0]\n",
    "    x -= eta*dfdx(x)\n",
    "    sc.set_offsets(np.c_[x, f(x)])\n",
    "    return sc,\n",
    "    \n",
    "anim = animation.FuncAnimation(fig, update_plot, frames=50, interval=200, repeat=False, blit=True)"
   ]
  },
  {
   "cell_type": "code",
   "execution_count": null,
   "id": "fceee8f7",
   "metadata": {},
   "outputs": [],
   "source": [
    "HTML(anim.to_html5_video(embed_limit=100))"
   ]
  },
  {
   "cell_type": "code",
   "execution_count": null,
   "id": "48137b80",
   "metadata": {},
   "outputs": [],
   "source": []
  }
 ],
 "metadata": {
  "kernelspec": {
   "display_name": "Python 3",
   "language": "python",
   "name": "python3"
  },
  "language_info": {
   "codemirror_mode": {
    "name": "ipython",
    "version": 3
   },
   "file_extension": ".py",
   "mimetype": "text/x-python",
   "name": "python",
   "nbconvert_exporter": "python",
   "pygments_lexer": "ipython3",
   "version": "3.9.5"
  }
 },
 "nbformat": 4,
 "nbformat_minor": 5
}
