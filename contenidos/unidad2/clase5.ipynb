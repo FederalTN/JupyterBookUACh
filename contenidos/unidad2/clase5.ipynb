{
 "cells": [
  {
   "cell_type": "markdown",
   "id": "4ee72210",
   "metadata": {},
   "source": [
    "# Escribiendo contenidos en formato `jupyter notebook`\n",
    "\n",
    "Jupyter es un proyecto de código abierto cuyo objetivo es facilitar la interacción con datos y/o cómputo de índole científico\n",
    "\n",
    "Una de las herramientas que provee este proyecto es el cuadernillo/notebook jupyter \n",
    "\n",
    "Un cuadernillo jupyter es un archivo con extensión `.ipynb` que combina bloques o celdas de texto formateado en markdown y de código ejecutable (python, julia, r, c, etc)\n",
    "\n",
    "Si escribes en tu terminal\n",
    "\n",
    "     jupyter notebook\n",
    "     \n",
    "Lanzarás un servidor de jupyter con el que puedes crear y editar cuadernillos. \n",
    "\n",
    "Esta página fue creada a partir de un cuadernillo jupyter usando jupyter book\n",
    "\n",
    "Para mayor detalles sobre como se usan los cuadernillos jupyter puedes revisar [este material](https://magister-informatica-uach.github.io/INFO147/clases/unidad1/04_jupyter_y_ipython.html). A continuación se darán algunos ejemplos básicos"
   ]
  },
  {
   "cell_type": "markdown",
   "id": "cba7e3d4",
   "metadata": {},
   "source": [
    "## Bloques de código\n",
    "\n",
    "Un bloque de código en un cuadernillo se ejecuta y su salida se muestra en el libro interactivo por ejemplo"
   ]
  },
  {
   "cell_type": "code",
   "execution_count": 5,
   "id": "d05b03e1",
   "metadata": {},
   "outputs": [
    {
     "name": "stdout",
     "output_type": "stream",
     "text": [
      "0 0\n",
      "1 1\n",
      "2 1\n",
      "3 2\n",
      "4 3\n",
      "5 5\n",
      "6 8\n",
      "7 13\n",
      "8 21\n",
      "9 34\n"
     ]
    }
   ],
   "source": [
    "def Fibonacci(n):\n",
    "    if n == 0:\n",
    "        return 0\n",
    "    elif n == 1 or n == 2:\n",
    "        return 1\n",
    "    else:\n",
    "        return Fibonacci(n-1) + Fibonacci(n-2)\n",
    "\n",
    "for i in range(10):\n",
    "    print(i, Fibonacci(i))"
   ]
  },
  {
   "cell_type": "markdown",
   "id": "7ce82a45",
   "metadata": {},
   "source": [
    "## IPython display\n",
    "\n",
    "El módulo IPython display permite mostrar algunos contenidos de media de forma muy simple \n",
    "\n",
    "Por ejemplo para mostrar un reproductor de video para Youtube"
   ]
  },
  {
   "cell_type": "code",
   "execution_count": 7,
   "id": "96f319f2",
   "metadata": {},
   "outputs": [
    {
     "data": {
      "image/jpeg": "[encoded data removed]",
      "text/html": [
       "\n",
       "        <iframe\n",
       "            width=\"400\"\n",
       "            height=\"300\"\n",
       "            src=\"https://www.youtube.com/embed/F7vtuAbWYN4\"\n",
       "            frameborder=\"0\"\n",
       "            allowfullscreen\n",
       "        ></iframe>\n",
       "        "
      ],
      "text/plain": [
       "<IPython.lib.display.YouTubeVideo at 0x7f0c90708ac0>"
      ]
     },
     "execution_count": 7,
     "metadata": {},
     "output_type": "execute_result"
    }
   ],
   "source": [
    "from IPython.display import YouTubeVideo\n",
    "\n",
    "# El video original es https://www.youtube.com/watch?v=F7vtuAbWYN4\n",
    "# usamos sólo la id como argumento\n",
    "YouTubeVideo(\"F7vtuAbWYN4\")"
   ]
  },
  {
   "cell_type": "markdown",
   "id": "8ab11769",
   "metadata": {},
   "source": [
    "O por un reproductor de audio con"
   ]
  },
  {
   "cell_type": "code",
   "execution_count": 8,
   "id": "5a419936",
   "metadata": {},
   "outputs": [
    {
     "data": {
      "text/html": [
       "\n",
       "                <audio  controls=\"controls\" >\n",
       "                    <source src=\"http://www.w3schools.com/html/horse.ogg\" type=\"audio/ogg\" />\n",
       "                    Your browser does not support the audio element.\n",
       "                </audio>\n",
       "              "
      ],
      "text/plain": [
       "<IPython.lib.display.Audio object>"
      ]
     },
     "execution_count": 8,
     "metadata": {},
     "output_type": "execute_result"
    }
   ],
   "source": [
    "from IPython.display import Audio\n",
    "Audio(url=\"http://www.w3schools.com/html/horse.ogg\")"
   ]
  },
  {
   "cell_type": "code",
   "execution_count": null,
   "id": "568d51aa",
   "metadata": {},
   "outputs": [],
   "source": []
  }
 ],
 "metadata": {
  "kernelspec": {
   "display_name": "Python 3",
   "language": "python",
   "name": "python3"
  },
  "language_info": {
   "codemirror_mode": {
    "name": "ipython",
    "version": 3
   },
   "file_extension": ".py",
   "mimetype": "text/x-python",
   "name": "python",
   "nbconvert_exporter": "python",
   "pygments_lexer": "ipython3",
   "version": "3.9.5"
  }
 },
 "nbformat": 4,
 "nbformat_minor": 5
}
